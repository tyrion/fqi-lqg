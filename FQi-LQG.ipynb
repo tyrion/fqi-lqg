{
 "cells": [
  {
   "cell_type": "code",
   "execution_count": 1,
   "metadata": {},
   "outputs": [],
   "source": [
    "import numpy as np\n",
    "import matplotlib.pyplot as plt\n",
    "from matplotlib import cm\n",
    "from mpl_toolkits.mplot3d import Axes3D\n",
    "from matplotlib.widgets import Slider, Button, RadioButtons"
   ]
  },
  {
   "cell_type": "code",
   "execution_count": 2,
   "metadata": {},
   "outputs": [],
   "source": [
    "%matplotlib notebook"
   ]
  },
  {
   "cell_type": "code",
   "execution_count": 100,
   "metadata": {},
   "outputs": [
    {
     "data": {
      "application/vnd.jupyter.widget-view+json": {
       "model_id": "aa62cc1239934fbcb56848403f7389c8",
       "version_major": 2,
       "version_minor": 0
      },
      "text/html": [
       "<p>Failed to display Jupyter Widget of type <code>FigureCanvasNbAgg</code>.</p>\n",
       "<p>\n",
       "  If you're reading this message in the Jupyter Notebook or JupyterLab Notebook, it may mean\n",
       "  that the widgets JavaScript is still loading. If this message persists, it\n",
       "  likely means that the widgets JavaScript library is either not installed or\n",
       "  not enabled. See the <a href=\"https://ipywidgets.readthedocs.io/en/stable/user_install.html\">Jupyter\n",
       "  Widgets Documentation</a> for setup instructions.\n",
       "</p>\n",
       "<p>\n",
       "  If you're reading this message in another frontend (for example, a static\n",
       "  rendering on GitHub or <a href=\"https://nbviewer.jupyter.org/\">NBViewer</a>),\n",
       "  it may mean that your frontend doesn't currently support widgets.\n",
       "</p>\n"
      ],
      "text/plain": [
       "FigureCanvasNbAgg()"
      ]
     },
     "metadata": {},
     "output_type": "display_data"
    }
   ],
   "source": [
    "fig, ax = plt.subplots()\n",
    "plt.subplots_adjust(left=0.08, bottom=0.25)\n",
    "\n",
    "s = np.arange(-10, 10, 0.01)\n",
    "\n",
    "maxa = lambda s: np.where(s<0, -8, 8)\n",
    "\n",
    "a0 = 0\n",
    "k0 = 0\n",
    "b0 = 0\n",
    "\n",
    "q = lambda s, a, b, k: b*a*s + k*(a*a + s*s)\n",
    "r = lambda s, a: -0.9*s*s -0.9*a*a\n",
    "t = lambda s, a, b, k: r(s, a) + 0.9*q(s+a, maxa(s+a), b, k)\n",
    "\n",
    "q_line, = plt.plot(s, q(s, a0, b0, k0), color='green')\n",
    "t_line, = plt.plot(s, t(s, a0, b0, k0), color='red')\n",
    "#t_line\n",
    "plt.axis([-11, 11, -500, 500])\n",
    "\n",
    "axcolor = 'lightgoldenrodyellow'\n",
    "axa = plt.axes([0.08, 0.05, 0.65, 0.03], facecolor=axcolor)\n",
    "axk = plt.axes([0.08, 0.1, 0.65, 0.03], facecolor=axcolor)\n",
    "axb = plt.axes([0.08, 0.15, 0.65, 0.03], facecolor=axcolor)\n",
    "\n",
    "sa = Slider(axa, 'A', -8, 8, valinit=a0)\n",
    "sk = Slider(axk, 'K', -10, 10.0, valinit=k0)\n",
    "sb = Slider(axb, 'B', -10, 10.0, valinit=k0)\n",
    "\n",
    "def update(val):\n",
    "    a = sa.val\n",
    "    k = sk.val\n",
    "    b = sb.val\n",
    "    q_line.set_ydata(q(s, a, b, k))\n",
    "    t_line.set_ydata(t(s, a, b, k))\n",
    "    fig.canvas.draw_idle()\n",
    "sa.on_changed(update)\n",
    "sk.on_changed(update)\n",
    "sb.on_changed(update)\n",
    "\n",
    "plt.show()"
   ]
  },
  {
   "cell_type": "code",
   "execution_count": 97,
   "metadata": {},
   "outputs": [
    {
     "data": {
      "application/vnd.jupyter.widget-view+json": {
       "model_id": "d6aa606bf4cc42e689afe2f3071a826d",
       "version_major": 2,
       "version_minor": 0
      },
      "text/html": [
       "<p>Failed to display Jupyter Widget of type <code>FigureCanvasNbAgg</code>.</p>\n",
       "<p>\n",
       "  If you're reading this message in the Jupyter Notebook or JupyterLab Notebook, it may mean\n",
       "  that the widgets JavaScript is still loading. If this message persists, it\n",
       "  likely means that the widgets JavaScript library is either not installed or\n",
       "  not enabled. See the <a href=\"https://ipywidgets.readthedocs.io/en/stable/user_install.html\">Jupyter\n",
       "  Widgets Documentation</a> for setup instructions.\n",
       "</p>\n",
       "<p>\n",
       "  If you're reading this message in another frontend (for example, a static\n",
       "  rendering on GitHub or <a href=\"https://nbviewer.jupyter.org/\">NBViewer</a>),\n",
       "  it may mean that your frontend doesn't currently support widgets.\n",
       "</p>\n"
      ],
      "text/plain": [
       "FigureCanvasNbAgg()"
      ]
     },
     "metadata": {},
     "output_type": "display_data"
    }
   ],
   "source": [
    "fig, ax = plt.subplots(subplot_kw={'projection': '3d'})\n",
    "plt.subplots_adjust(left=0.08, bottom=0.25)\n",
    "\n",
    "s = np.arange(-10, 10, 0.4)\n",
    "a = np.arange(-8,8,0.32)\n",
    "b0 = -2.91676304\n",
    "k0 = -2.35588454\n",
    "\n",
    "A2D,S2D=np.meshgrid(a, s)\n",
    "R2D = 0.9*S2D*S2D + 0.9*A2D*A2D\n",
    "maxa = lambda s: np.where(s<0, -8, 8)\n",
    "q = lambda s, a, b, k: b*a*s + k*(a*a + s*s)\n",
    "r = lambda s, a: 0.9*s*s + 0.9*a*a\n",
    "t = lambda s, a, b, k: r(s, a) + 0.9*q(s+a, maxa(s+a), b, k)\n",
    "\n",
    "plot = [\n",
    "    ax.plot_surface(S2D, A2D, q(S2D, A2D, b0, k0), color='green'),\n",
    "    ax.plot_surface(S2D, A2D, t(S2D, A2D, b0, k0), color='red')\n",
    "]\n",
    "ax.set_zlim(-500, 500)\n",
    "\n",
    "axcolor = 'lightgoldenrodyellow'\n",
    "axb = plt.axes([0.08, 0.15, 0.65, 0.03], facecolor=axcolor)\n",
    "axk = plt.axes([0.08, 0.1, 0.65, 0.03], facecolor=axcolor)\n",
    "\n",
    "sb = Slider(axb, 'B', -10, 10.0, valinit=b0)\n",
    "sk = Slider(axk, 'K', -10, 10.0, valinit=k0)\n",
    "\n",
    "def update(val):\n",
    "    b = sb.val\n",
    "    k = sk.val\n",
    "    plot[0].remove()\n",
    "    plot[0] = ax.plot_surface(S2D, A2D, q(S2D, A2D, b, k), color='green')\n",
    "    plot[1].remove()\n",
    "    plot[1] = ax.plot_surface(S2D, A2D, t(S2D, A2D, b, k), color='red')\n",
    "    fig.canvas.draw_idle()\n",
    "sb.on_changed(update)\n",
    "sk.on_changed(update)\n",
    "\n",
    "plt.show()\n"
   ]
  }
 ],
 "metadata": {
  "kernelspec": {
   "display_name": "Python 2",
   "language": "python",
   "name": "python2"
  },
  "language_info": {
   "codemirror_mode": {
    "name": "ipython",
    "version": 2
   },
   "file_extension": ".py",
   "mimetype": "text/x-python",
   "name": "python",
   "nbconvert_exporter": "python",
   "pygments_lexer": "ipython2",
   "version": "2.7.14"
  }
 },
 "nbformat": 4,
 "nbformat_minor": 2
}
